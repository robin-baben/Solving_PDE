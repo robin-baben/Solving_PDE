{
 "cells": [
  {
   "cell_type": "markdown",
   "id": "14e1fcc3-2b80-44ae-a77a-45b959c8cab7",
   "metadata": {},
   "source": [
    "### Дифференциальное уравнение"
   ]
  },
  {
   "cell_type": "markdown",
   "id": "6b5c8a33-11e4-4bc7-962e-1ffd337da72a",
   "metadata": {},
   "source": [
    "$$\n",
    "-\\dfrac{\\partial}{\\partial x} \\left( a(x, y) \\dfrac{\\partial u}{\\partial x}\\right)\n",
    "-\\dfrac{\\partial}{\\partial y} \\left( a(x, y) \\dfrac{\\partial u}{\\partial y}\\right)\n",
    "+ g(x, y) \\, u = f\n",
    "$$"
   ]
  },
  {
   "cell_type": "markdown",
   "id": "8a206ceb-d031-4518-b640-1fa6d484739a",
   "metadata": {
    "tags": []
   },
   "source": [
    "### Разностная схема"
   ]
  },
  {
   "cell_type": "markdown",
   "id": "c4e43773-ba47-4454-9fea-178fab7d27a8",
   "metadata": {},
   "source": [
    "$$\n",
    "\\dfrac{a_{i, j} \\left( \\dfrac{u_{i, j} - u_{i-1, j}}{h_x} \\right)\n",
    "- a_{i+1, j}  \\left( \\dfrac{ u_{i+1, j} - u_{i, j} }{h_x}   \\right)}{h_x}\n",
    "+ \\dfrac{a_{i, j} \\left( \\dfrac{u_{i, j} - u_{i, j-1}}{h_y} \\right)\n",
    "- a_{i, j+1}  \\left( \\dfrac{ u_{i, j+1} - u_{i, j} }{h_y}   \\right)}{h_y}\n",
    "+g_{i, j} \\, u_{i, j} = f_{i, j}\n",
    "$$"
   ]
  },
  {
   "cell_type": "markdown",
   "id": "9861a83a-0a38-44d3-a485-e80614cabf70",
   "metadata": {},
   "source": [
    "### Группируем слагаемы для вычисления элементов матрицы"
   ]
  },
  {
   "cell_type": "markdown",
   "id": "91bbf391-328e-4562-954c-66c6810a36ad",
   "metadata": {},
   "source": [
    "$$\n",
    "u_{i, j} \\left( \\dfrac{a_{i, j}+a_{i+1, j}}{h_{x}^{2}} + \\dfrac{a_{i, j}+a_{i, j+1}}{h_{y}^{2}} + g_{i,j}\\right)\n",
    "- u_{i, j-1} \\dfrac{a_{i, j}}{h_{y}^{2}} - u_{i-1, j} \\dfrac{a_{i, j}}{h_{x}^{2}}\n",
    "- u_{i+1, j} \\dfrac{a_{i+1, j}}{h_{x}^{2}} - u_{i, j+1} \\dfrac{a_{i, j+1}}{h_{y}^{2}} = f_{i, j}\n",
    "$$"
   ]
  },
  {
   "cell_type": "code",
   "execution_count": 7,
   "id": "d682e8ea-1fb1-4dbe-9389-ee3823d88569",
   "metadata": {
    "tags": []
   },
   "outputs": [],
   "source": [
    "def a(x , y):\n",
    "    if (1/6 < x < 5/6) and (2/3 < y < 5/6):\n",
    "        return 1000\n",
    "    else:\n",
    "        return 1"
   ]
  },
  {
   "cell_type": "markdown",
   "id": "4025ea60-dffa-4bb0-9dc2-8d9a864fac7d",
   "metadata": {},
   "source": [
    "# Область"
   ]
  },
  {
   "cell_type": "code",
   "execution_count": 8,
   "id": "357ea1b3-1444-4f2b-b3e9-568a97081cc7",
   "metadata": {
    "tags": []
   },
   "outputs": [],
   "source": [
    "import matplotlib.pyplot as plt\n",
    "import numpy as np\n",
    "import scipy.sparse as sparse"
   ]
  },
  {
   "cell_type": "markdown",
   "id": "d48de458-3e84-4d56-920e-8ddae8f471b2",
   "metadata": {},
   "source": [
    "### Точки границ области"
   ]
  },
  {
   "cell_type": "code",
   "execution_count": 3,
   "id": "8136062d-0c9e-4df0-9d2f-9fce38ca184c",
   "metadata": {
    "tags": []
   },
   "outputs": [],
   "source": [
    "x = np.array([0, 1, 1, 2/3, 2/3, 1/3, 1/3, 0])\n",
    "y = np.array([1, 1, 0.5, 0.5, 0, 0, 0.5, 0.5])"
   ]
  },
  {
   "cell_type": "markdown",
   "id": "0a0e2893-ddd0-4e67-a9c9-8382501fbf1e",
   "metadata": {},
   "source": [
    "### Рисуем область"
   ]
  },
  {
   "cell_type": "markdown",
   "id": "f876cfaf-d975-4d62-9c7f-d2b7acce913d",
   "metadata": {},
   "source": [
    "Пусть по оси Х в верхней части буквы Т у нас 3N ячеек, в нижний соответственно N\n",
    "По оси Y у нас по M ячеек в верхней и нижней частях буквы T"
   ]
  },
  {
   "cell_type": "code",
   "execution_count": 4,
   "id": "79d84d33-70ea-450a-9783-34b1373a7f11",
   "metadata": {
    "tags": []
   },
   "outputs": [
    {
     "data": {
      "image/png": "[encoded data removed]",
      "text/plain": [
       "<Figure size 600x600 with 1 Axes>"
      ]
     },
     "metadata": {},
     "output_type": "display_data"
    }
   ],
   "source": [
    "n = 6\n",
    "m = 8\n",
    "fig = plt.figure(figsize=(6, 6))\n",
    "ax = fig.add_subplot(1, 1, 1)\n",
    "\n",
    "# Major ticks every 20, minor ticks every 5\n",
    "ticks_x = np.linspace(0, 1, 3*n+1)\n",
    "ticks_y = np.linspace(0, 1, 2*m+1)\n",
    "\n",
    "ticks_x_major = np.linspace(0, 1, 7)\n",
    "ticks_y_major = np.linspace(0, 1, 5)\n",
    "\n",
    "ax.set_xticks(ticks_x, minor=True)\n",
    "ax.set_xticks(ticks_x_major)\n",
    "ax.set_yticks(ticks_y, minor=True)\n",
    "ax.set_yticks(ticks_y_major)\n",
    "\n",
    "# And a corresponding grid\n",
    "#ax.grid(which='both')\n",
    "\n",
    "# Or if you want different settings for the grids:\n",
    "ax.grid(which='minor', alpha=0.5)\n",
    "ax.grid(which='major', alpha=0.5)\n",
    "\n",
    "plt.fill_between(x, y)\n",
    "plt.plot([1/6, 1/6, 5/6, 5/6, 1/6], [2/3, 5/6, 5/6, 2/3, 2/3], color='xkcd:sky blue')\n",
    "\n",
    "plt.show()"
   ]
  },
  {
   "cell_type": "markdown",
   "id": "241cbef5-179d-405d-bf8b-750e1d20129e",
   "metadata": {},
   "source": [
    "# Портрет"
   ]
  },
  {
   "cell_type": "markdown",
   "id": "1851a37c-6996-4a3f-a86a-8ccc44711465",
   "metadata": {
    "tags": []
   },
   "source": [
    "Всего узлов внутри области:"
   ]
  },
  {
   "cell_type": "code",
   "execution_count": 5,
   "id": "6f699ed2-784b-41ad-b97d-0b2e6241a2fb",
   "metadata": {
    "tags": []
   },
   "outputs": [],
   "source": [
    "N = 6\n",
    "M = 8\n",
    "num_nodes = (3*N - 1) * (M -1) + M * (N - 1)"
   ]
  },
  {
   "cell_type": "markdown",
   "id": "b3ec9cd6-b649-4628-9104-2d797740fae6",
   "metadata": {},
   "source": [
    "Шаги сетки:"
   ]
  },
  {
   "cell_type": "code",
   "execution_count": 6,
   "id": "6e787d3c-b01c-4c95-ae1c-72310fd6fad8",
   "metadata": {
    "tags": []
   },
   "outputs": [],
   "source": [
    "h_x = 1 / (3*N)\n",
    "h_y = 1 / (2*M)"
   ]
  },
  {
   "cell_type": "markdown",
   "id": "07091ecc-d9c2-4248-a76e-d142ba110087",
   "metadata": {},
   "source": [
    "## Функция заполнения матрицы"
   ]
  },
  {
   "cell_type": "markdown",
   "id": "9ce89a0b-ea38-44a8-a45d-ac38b4319fd4",
   "metadata": {},
   "source": [
    "Храним матрицу в **CSR** формате"
   ]
  },
  {
   "cell_type": "code",
   "execution_count": 9,
   "id": "bda89576-f3f8-42ed-96c6-88327114df8a",
   "metadata": {
    "tags": []
   },
   "outputs": [],
   "source": [
    "def fill(N, M, h_x, h_y) -> tuple:\n",
    "    num_nodes_up = (M-1) * (3*N - 1) #число узлов в верхней части Т\n",
    "    num_nodes_down = M * (N - 1) # число узлов в нижней части Т\n",
    "    num_nodes = (3*N - 1) * (M -1) + M * (N - 1)\n",
    "    \n",
    "    data = []\n",
    "    col_ind = []\n",
    "    ind_ptr = [0]\n",
    "    \n",
    "    Nx = 3*N - 1\n",
    "    \n",
    "    for i in range(num_nodes_up):\n",
    "        x_cntr = (1 + i % Nx)*h_x\n",
    "        y_cntr = 1 - (1 + i // Nx)*h_y\n",
    "\n",
    "        left = -a(x_cntr, y_cntr) / h_x**2\n",
    "        right = -a(x_cntr+h_x, y_cntr) / h_x**2\n",
    "        up = -a(x_cntr, y_cntr) / h_y**2\n",
    "        down = -a(x_cntr, y_cntr-h_y) / h_y**2\n",
    "\n",
    "        centr = -(left+ right+ down + up) + 0.1\n",
    "\n",
    "        cur = []\n",
    "        cur_col = []\n",
    "        if (i >= Nx):\n",
    "            cur.append(up)\n",
    "            cur_col.append(i - Nx)\n",
    "        if (i % Nx != 0):\n",
    "            cur.append(left)\n",
    "            cur_col.append(i - 1)\n",
    "        cur.append(centr)\n",
    "        cur_col.append(i)\n",
    "        if (i % Nx != Nx-1):\n",
    "            cur.append(right)\n",
    "            cur_col.append(i+1)\n",
    "        if (i < num_nodes_up - Nx):\n",
    "            cur.append(down)\n",
    "            cur_col.append(i+Nx)\n",
    "        elif(N <= (i % Nx) < (Nx - N)):\n",
    "            cur.append(down)\n",
    "            cur_col.append(i+Nx-N)\n",
    "\n",
    "        data.extend(cur)\n",
    "        col_ind.extend(cur_col)\n",
    "        ind_ptr += [ind_ptr[-1] + len(cur)]\n",
    "    \n",
    "    NewNx = N-1\n",
    "    \n",
    "    for i in range(num_nodes_down):\n",
    "        x_cntr = (1 + N + i % NewNx)*h_x\n",
    "        y_cntr = 0.5 - (i // NewNx)*h_y\n",
    "\n",
    "\n",
    "        left = -a(x_cntr, y_cntr) / h_x**2\n",
    "        right = -a(x_cntr+h_x, y_cntr) / h_x**2\n",
    "        up = -a(x_cntr, y_cntr) / h_y**2\n",
    "        down = -a(x_cntr, y_cntr-h_y) / h_y**2\n",
    "\n",
    "        centr = -(left+ right+ down + up) + 0.1\n",
    "\n",
    "        cur = []\n",
    "        cur_col = []\n",
    "\n",
    "        if (i < NewNx):\n",
    "            cur.append(up)\n",
    "            cur_col.append(num_nodes_up + i -Nx + N)\n",
    "        else:\n",
    "            cur.append(up)\n",
    "            cur_col.append(num_nodes_up + i- NewNx)\n",
    "        if (i % NewNx != 0):\n",
    "            cur.append(left)\n",
    "            cur_col.append(num_nodes_up+i - 1)\n",
    "        cur.append(centr)\n",
    "        cur_col.append(num_nodes_up+i)\n",
    "        if (i % NewNx != NewNx-1):\n",
    "            cur.append(right)\n",
    "            cur_col.append(num_nodes_up+i+1)\n",
    "        if (i < num_nodes_down-NewNx):\n",
    "            cur.append(down)\n",
    "            cur_col.append(i+num_nodes_up+NewNx)\n",
    "\n",
    "        data.extend(cur)\n",
    "        col_ind.extend(cur_col)\n",
    "        ind_ptr += [ind_ptr[-1] + len(cur)]\n",
    "        \n",
    "        \n",
    "    return (np.array(data), np.array(col_ind), np.array(ind_ptr))"
   ]
  },
  {
   "cell_type": "code",
   "execution_count": 10,
   "id": "a9b494ee-561b-4bb6-8515-0c0b160b9b91",
   "metadata": {
    "tags": []
   },
   "outputs": [],
   "source": [
    "data, col_ind, ind_ptr = fill(N, M, h_x, h_y)"
   ]
  },
  {
   "cell_type": "code",
   "execution_count": 9,
   "id": "768a71e2-b216-4fe0-92d3-488d7b4095f2",
   "metadata": {
    "tags": []
   },
   "outputs": [],
   "source": [
    "mat = sparse.csr_matrix((data, col_ind, ind_ptr), [num_nodes, num_nodes])"
   ]
  },
  {
   "cell_type": "code",
   "execution_count": 10,
   "id": "024acf10-2cde-4fa3-83cf-15e79b941f18",
   "metadata": {
    "tags": []
   },
   "outputs": [
    {
     "data": {
      "text/plain": [
       "<matplotlib.lines.Line2D at 0x14708e29690>"
      ]
     },
     "execution_count": 10,
     "metadata": {},
     "output_type": "execute_result"
    },
    {
     "data": {
      "image/png": "[encoded data removed]",
      "text/plain": [
       "<Figure size 640x480 with 1 Axes>"
      ]
     },
     "metadata": {},
     "output_type": "display_data"
    }
   ],
   "source": [
    "plt.spy(mat)"
   ]
  },
  {
   "cell_type": "markdown",
   "id": "4ef6b371-d040-4d6c-bfb6-08e88324c52b",
   "metadata": {},
   "source": [
    "Матрица симметричкая, следовательно нормальная, с диагональным преобладанием, разреженная"
   ]
  },
  {
   "cell_type": "markdown",
   "id": "f97296a1-41e9-4021-acee-5a331a1aa36a",
   "metadata": {},
   "source": [
    "# Базовый итерационный метод"
   ]
  },
  {
   "cell_type": "markdown",
   "id": "dc679230-0924-4334-bd59-66dd6d200844",
   "metadata": {},
   "source": [
    "Для матрицы с диагональным преобладанием метод Гаусса-Зейделя должен сходиться из любого начального приближения"
   ]
  },
  {
   "cell_type": "code",
   "execution_count": 103,
   "id": "a4eb9202-ab29-4bf5-ba49-e4e061fdaaaa",
   "metadata": {
    "tags": []
   },
   "outputs": [
    {
     "data": {
      "text/plain": [
       "159"
      ]
     },
     "execution_count": 103,
     "metadata": {},
     "output_type": "execute_result"
    }
   ],
   "source": [
    "N = 6\n",
    "M = 8\n",
    "num_nodes = (3*N - 1) * (M -1) + M * (N - 1)\n",
    "num_nodes"
   ]
  },
  {
   "cell_type": "code",
   "execution_count": 104,
   "id": "e6ae88c1-5788-4848-959d-b1862220f87f",
   "metadata": {
    "tags": []
   },
   "outputs": [],
   "source": [
    "h_x = 1 / (3*N)\n",
    "h_y = 1 / (2*M)"
   ]
  },
  {
   "cell_type": "code",
   "execution_count": 105,
   "id": "f910368f-3e3a-4b77-b8e0-b76a272684dc",
   "metadata": {},
   "outputs": [],
   "source": [
    "A_data, A_col_ind, A_rowPtr = fill(N, M, h_x, h_y)"
   ]
  },
  {
   "cell_type": "code",
   "execution_count": 106,
   "id": "819196ae-0d50-4e42-a084-3e252fc685dc",
   "metadata": {},
   "outputs": [],
   "source": [
    "x_exact = np.ones(num_nodes) # точное решение"
   ]
  },
  {
   "cell_type": "markdown",
   "id": "0c9267b8-7aec-4a75-8673-8c358ea98b05",
   "metadata": {},
   "source": [
    "## Найдем вектор правой части"
   ]
  },
  {
   "cell_type": "code",
   "execution_count": 107,
   "id": "128cdcfa-2d6a-41a2-9466-bb7906403660",
   "metadata": {
    "tags": []
   },
   "outputs": [],
   "source": [
    "b = np.zeros(num_nodes, np.double)"
   ]
  },
  {
   "cell_type": "code",
   "execution_count": 108,
   "id": "c02bb043-0de9-4d34-af82-c616688506e3",
   "metadata": {
    "tags": []
   },
   "outputs": [],
   "source": [
    "for i in range(num_nodes):\n",
    "    jbeg = A_rowPtr[i]\n",
    "    jend = A_rowPtr[i+1]\n",
    "    \n",
    "    for j in range(jbeg, jend):\n",
    "        b[i] += A_data[j]"
   ]
  },
  {
   "cell_type": "markdown",
   "id": "5295442e-bc22-436c-83b8-9cea5c1bc7f8",
   "metadata": {},
   "source": [
    "## Найдем диагональ"
   ]
  },
  {
   "cell_type": "code",
   "execution_count": 109,
   "id": "8a1991c1-20e9-4c4a-a5c7-ea232faf0cbb",
   "metadata": {
    "tags": []
   },
   "outputs": [],
   "source": [
    "diag = np.zeros(num_nodes, np.double)"
   ]
  },
  {
   "cell_type": "code",
   "execution_count": 110,
   "id": "4566bb64-d9fd-4fc9-a0be-3758f8d5703b",
   "metadata": {
    "tags": []
   },
   "outputs": [],
   "source": [
    "for i in range(num_nodes):\n",
    "    jbeg = A_rowPtr[i]\n",
    "    jend = A_rowPtr[i+1]\n",
    "    \n",
    "    for j in range(jbeg, jend):\n",
    "        if (A_col_ind[j] == i):\n",
    "            diag[i] = A_data[j]\n",
    "            break;"
   ]
  },
  {
   "cell_type": "markdown",
   "id": "c3d2866e-31ac-4a61-ab83-43e88f19bcd5",
   "metadata": {},
   "source": [
    "## Посчитаем радиусы кругов гершгорина"
   ]
  },
  {
   "cell_type": "code",
   "execution_count": 69,
   "id": "1df9c602-5512-47c6-91d8-1d4364dd21e6",
   "metadata": {
    "tags": []
   },
   "outputs": [],
   "source": [
    "R = np.zeros(num_nodes)"
   ]
  },
  {
   "cell_type": "code",
   "execution_count": 70,
   "id": "03c8c82c-6c56-4b2a-99ab-b579ad74a9d7",
   "metadata": {
    "tags": []
   },
   "outputs": [],
   "source": [
    "for i in range(num_nodes):\n",
    "    jbeg = A_rowPtr[i]\n",
    "    jend = A_rowPtr[i+1]\n",
    "    \n",
    "    for j in range(jbeg, jend):\n",
    "        if (A_col_ind[j] != i):\n",
    "            R[i] += abs(A_data[j])"
   ]
  },
  {
   "cell_type": "code",
   "execution_count": 71,
   "id": "bf7f03c4-4a79-40f2-a7fe-5c2c3482b17f",
   "metadata": {
    "tags": []
   },
   "outputs": [
    {
     "data": {
      "text/plain": [
       "9280000.1"
      ]
     },
     "execution_count": 71,
     "metadata": {},
     "output_type": "execute_result"
    }
   ],
   "source": [
    "Lambd = max(abs(diag)+R)\n",
    "Lambd"
   ]
  },
  {
   "cell_type": "code",
   "execution_count": 72,
   "id": "6caffc2c-1dfd-41b0-8028-b78c557c95da",
   "metadata": {
    "tags": []
   },
   "outputs": [
    {
     "data": {
      "text/plain": [
       "0.09999999962747097"
      ]
     },
     "execution_count": 72,
     "metadata": {},
     "output_type": "execute_result"
    }
   ],
   "source": [
    "lambd = min(abs(diag)-R)\n",
    "lambd"
   ]
  },
  {
   "cell_type": "code",
   "execution_count": 73,
   "id": "096ea0f5-62d7-4cf2-a82c-417538c8467d",
   "metadata": {
    "tags": []
   },
   "outputs": [],
   "source": [
    "A_sparse = sparse.csr_matrix((A_data, A_col_ind, A_rowPtr), [num_nodes, num_nodes])"
   ]
  },
  {
   "cell_type": "code",
   "execution_count": 74,
   "id": "043be961-efbb-4445-94bc-defec9d40b28",
   "metadata": {
    "tags": []
   },
   "outputs": [],
   "source": [
    "A = sparse.csr_matrix.todense(A_sparse)"
   ]
  },
  {
   "cell_type": "code",
   "execution_count": 75,
   "id": "40817dd6-0a18-478c-875d-29d32f20285e",
   "metadata": {
    "tags": []
   },
   "outputs": [],
   "source": [
    "import numpy as np"
   ]
  },
  {
   "cell_type": "code",
   "execution_count": 76,
   "id": "f18ce089-c293-436c-bde2-b82c40e039f0",
   "metadata": {
    "tags": []
   },
   "outputs": [],
   "source": [
    "eigenvalues, eigenvectors = np.linalg.eig(A)"
   ]
  },
  {
   "cell_type": "code",
   "execution_count": 77,
   "id": "f2d09a8f-1677-49fb-a35b-93d4ab4f9539",
   "metadata": {
    "tags": []
   },
   "outputs": [
    {
     "data": {
      "text/plain": [
       "(8949249.203641027+0j)"
      ]
     },
     "execution_count": 77,
     "metadata": {},
     "output_type": "execute_result"
    }
   ],
   "source": [
    "eigenvalues[0]"
   ]
  },
  {
   "cell_type": "code",
   "execution_count": 78,
   "id": "3af06861-22ab-4821-8094-2871ede80313",
   "metadata": {
    "tags": []
   },
   "outputs": [
    {
     "data": {
      "text/plain": [
       "(4154.758970241264+0j)"
      ]
     },
     "execution_count": 78,
     "metadata": {},
     "output_type": "execute_result"
    }
   ],
   "source": [
    "eigenvalues[-1]"
   ]
  },
  {
   "cell_type": "code",
   "execution_count": 79,
   "id": "3cd28b6c-7c7b-4486-9545-8ba2c6ea7c49",
   "metadata": {
    "tags": []
   },
   "outputs": [
    {
     "data": {
      "text/plain": [
       "(2153.9755417198967+0j)"
      ]
     },
     "execution_count": 79,
     "metadata": {},
     "output_type": "execute_result"
    }
   ],
   "source": [
    "eigenvalues[0] / eigenvalues[-1]"
   ]
  },
  {
   "cell_type": "code",
   "execution_count": 80,
   "id": "13ab52f2-7dda-4776-bdf3-afa70fa961fa",
   "metadata": {
    "tags": []
   },
   "outputs": [
    {
     "data": {
      "text/plain": [
       "(46.377714673290015+0j)"
      ]
     },
     "execution_count": 80,
     "metadata": {},
     "output_type": "execute_result"
    }
   ],
   "source": [
    "min(eigenvalues)"
   ]
  },
  {
   "cell_type": "code",
   "execution_count": 81,
   "id": "bcfbbe43-4f4a-433f-a3a9-132b6ab73886",
   "metadata": {
    "tags": []
   },
   "outputs": [
    {
     "data": {
      "text/plain": [
       "(8949249.203641027+0j)"
      ]
     },
     "execution_count": 81,
     "metadata": {},
     "output_type": "execute_result"
    }
   ],
   "source": [
    "max(eigenvalues)"
   ]
  },
  {
   "cell_type": "code",
   "execution_count": 82,
   "id": "39ef91f0-dc1e-4192-9ce2-99950dbcbbd8",
   "metadata": {
    "tags": []
   },
   "outputs": [
    {
     "data": {
      "text/plain": [
       "(192964.42842611874+0j)"
      ]
     },
     "execution_count": 82,
     "metadata": {},
     "output_type": "execute_result"
    }
   ],
   "source": [
    "max(eigenvalues) / min(eigenvalues)"
   ]
  },
  {
   "cell_type": "markdown",
   "id": "66572f13-137f-426e-8fe5-8ac73f67d200",
   "metadata": {},
   "source": [
    "### оценка на число обусловленности"
   ]
  },
  {
   "cell_type": "code",
   "execution_count": 84,
   "id": "9644230c-5591-4e1f-bf88-28697ad2bf33",
   "metadata": {
    "tags": []
   },
   "outputs": [
    {
     "data": {
      "text/plain": [
       "92800001.34570694"
      ]
     },
     "execution_count": 84,
     "metadata": {},
     "output_type": "execute_result"
    }
   ],
   "source": [
    "cond = Lambd / lambd\n",
    "cond"
   ]
  },
  {
   "cell_type": "markdown",
   "id": "36571f6f-abe7-4b5a-8915-66bf8f172e9d",
   "metadata": {},
   "source": [
    "## Подготовим матрицу и вектор правой части отнормировав диагональные элементы"
   ]
  },
  {
   "cell_type": "code",
   "execution_count": 111,
   "id": "09ddad4d-c908-4ef1-9d2a-c9b20ab994b9",
   "metadata": {
    "tags": []
   },
   "outputs": [],
   "source": [
    "A_data_prep = np.copy(A_data)\n",
    "b_prep = np.copy(b)\n",
    "\n",
    "for i in range(num_nodes):\n",
    "    jbeg = A_rowPtr[i]\n",
    "    jend = A_rowPtr[i+1]\n",
    "    \n",
    "    for j in range(jbeg, jend):\n",
    "        A_data_prep[j] /= diag[i]\n",
    "        \n",
    "    b_prep[i] /= diag[i]"
   ]
  },
  {
   "cell_type": "markdown",
   "id": "f45e5ec9-c115-41e5-ae92-677f6c63a49b",
   "metadata": {},
   "source": [
    "## Метод Гаусса-Зейделя"
   ]
  },
  {
   "cell_type": "code",
   "execution_count": 112,
   "id": "5764861d-5d8d-4b1d-b598-9902948c7790",
   "metadata": {},
   "outputs": [],
   "source": [
    "def Gauss_Zeildel(A, b, eps, maxit):\n",
    "    A_data, A_col_ind, A_rowPtr = A\n",
    "    N = len(b)\n",
    "    x = np.zeros(N)\n",
    "    \n",
    "    k = 0\n",
    "    converge = False\n",
    "    \n",
    "    log = []\n",
    "    \n",
    "    \n",
    "    \n",
    "    while (not converge) and (k < maxit):\n",
    "        k+=1\n",
    "        x_new = np.copy(x)\n",
    "        \n",
    "        for i in range(N):\n",
    "            s = 0\n",
    "            \n",
    "            jbeg = A_rowPtr[i]\n",
    "            jend = A_rowPtr[i+1]\n",
    "            \n",
    "            for j in range(jbeg, jend):\n",
    "                if (i != A_col_ind[j]):\n",
    "                    s += A_data[j] * x_new[A_col_ind[j]]\n",
    "                \n",
    "            x_new[i] = b[i] - s\n",
    "            \n",
    "        converge = np.linalg.norm(x_new - x) <= eps \n",
    "        x = x_new\n",
    "        \n",
    "        if (k % 100 == 0):\n",
    "            r = np.zeros(N)\n",
    "            for i in range(num_nodes):\n",
    "                jbeg = A_rowPtr[i]\n",
    "                jend = A_rowPtr[i+1]\n",
    "    \n",
    "                for j in range(jbeg, jend):\n",
    "                    r[i] += A_data[j] * x[A_col_ind[j]]\n",
    "                \n",
    "                r[i] -= b[i]\n",
    "                \n",
    "            res = np.linalg.norm(r)\n",
    "            log.append(res)\n",
    "            \n",
    "    return (x, k, log)"
   ]
  },
  {
   "cell_type": "markdown",
   "id": "72d4f9e0-a90a-4f42-92c2-8afd161ddf7c",
   "metadata": {},
   "source": [
    "## Проверка сходимости"
   ]
  },
  {
   "cell_type": "code",
   "execution_count": 113,
   "id": "31e63a7c-ca99-41a0-9935-48174094c910",
   "metadata": {
    "tags": []
   },
   "outputs": [],
   "source": [
    "eps = 10**(-12)\n",
    "maxit = 10 ** 5"
   ]
  },
  {
   "cell_type": "code",
   "execution_count": 114,
   "id": "c56fa1d2-a718-4f3f-8f89-28f7c3f39f3f",
   "metadata": {
    "tags": []
   },
   "outputs": [
    {
     "name": "stdout",
     "output_type": "stream",
     "text": [
      "100000\n"
     ]
    }
   ],
   "source": [
    "x, k, log= Gauss_Zeildel((A_data_prep, A_col_ind, A_rowPtr), b_prep, eps, maxit)\n",
    "print(k)"
   ]
  },
  {
   "cell_type": "code",
   "execution_count": 115,
   "id": "3c54cdac-7cbf-4f9f-8c4c-2d990ec4bee6",
   "metadata": {
    "tags": []
   },
   "outputs": [
    {
     "data": {
      "text/plain": [
       "Text(0.5, 1.0, 'График зависимости нормы невязки от числа итераций')"
      ]
     },
     "execution_count": 115,
     "metadata": {},
     "output_type": "execute_result"
    },
    {
     "data": {
      "image/png": "[encoded data removed]",
      "text/plain": [
       "<Figure size 640x480 with 1 Axes>"
      ]
     },
     "metadata": {},
     "output_type": "display_data"
    }
   ],
   "source": [
    "fig, ax = plt.subplots()\n",
    "xx = [1+100*i for i in range(len(log))]\n",
    "ax.semilogy(xx, log)\n",
    "\n",
    "ax.set_xlabel('Число итераций')\n",
    "ax.set_ylabel('Норма невязки в логарифмическом масштабе')\n",
    "ax.set_title('График зависимости нормы невязки от числа итераций')"
   ]
  },
  {
   "cell_type": "markdown",
   "id": "1c47fe68-34f5-44ae-bb4e-69b021bc34fc",
   "metadata": {},
   "source": [
    "# Метод сопряженных градиентов с диагональным предобуславливанием"
   ]
  },
  {
   "cell_type": "code",
   "execution_count": 92,
   "id": "010d8dc5-985d-4867-8129-6af0e01e712e",
   "metadata": {
    "tags": []
   },
   "outputs": [
    {
     "data": {
      "text/plain": [
       "4640000.1"
      ]
     },
     "execution_count": 92,
     "metadata": {},
     "output_type": "execute_result"
    }
   ],
   "source": [
    "max_elem_A = max(A_data)\n",
    "max_elem_A"
   ]
  },
  {
   "cell_type": "code",
   "execution_count": 93,
   "id": "93be5b9a-57a6-4348-ab88-614b4b0be2a2",
   "metadata": {
    "tags": []
   },
   "outputs": [
    {
     "data": {
      "text/plain": [
       "2320.1000000000004"
      ]
     },
     "execution_count": 93,
     "metadata": {},
     "output_type": "execute_result"
    }
   ],
   "source": [
    "max_elem_b = max(b)\n",
    "max_elem_b"
   ]
  },
  {
   "cell_type": "code",
   "execution_count": 94,
   "id": "48453f5d-6584-417a-82ab-b3502d477216",
   "metadata": {
    "tags": []
   },
   "outputs": [
    {
     "data": {
      "text/plain": [
       "1024.0"
      ]
     },
     "execution_count": 94,
     "metadata": {},
     "output_type": "execute_result"
    }
   ],
   "source": [
    "min(abs(A_data))"
   ]
  },
  {
   "cell_type": "code",
   "execution_count": 122,
   "id": "d2b7b1dd-41f9-4a5d-9d82-aee72b89073a",
   "metadata": {
    "tags": []
   },
   "outputs": [],
   "source": [
    "def CG(A, b, antidiag, eps, maxit):\n",
    "    A_data, A_col_ind, A_rowPtr = A\n",
    "    N = len(b)\n",
    "    \n",
    "    x = np.zeros(N, np.double)\n",
    "    converge = False\n",
    "    log = []\n",
    "    k = 0\n",
    "\n",
    "    rho_old = 0\n",
    "    rho_new = 0\n",
    "\n",
    "    r_k = np.copy(b)\n",
    "\n",
    "    p_k = r_k\n",
    "    q_k = np.zeros(N, np.double)\n",
    "    beta = 0\n",
    "\n",
    "    while (not converge) and (k <= maxit):\n",
    "        k += 1\n",
    "        z_k = antidiag * r_k\n",
    "\n",
    "        rho_old = rho_new\n",
    "        rho_new = np.dot(r_k, z_k)\n",
    "\n",
    "        if k == 1:\n",
    "            p_k = np.copy(z_k)\n",
    "            print(1)\n",
    "        else:\n",
    "            beta = rho_new / rho_old\n",
    "            p_k = z_k + beta * p_k\n",
    "\n",
    "\n",
    "        for i in range(N):\n",
    "            jbeg = A_rowPtr[i]\n",
    "            jend = A_rowPtr[i+1]\n",
    "        \n",
    "            s = 0.0\n",
    "            for j in range(jbeg, jend):\n",
    "                s += (A_data[j] * p_k[A_col_ind[j]])\n",
    "                \n",
    "            q_k[i] = s\n",
    "\n",
    "        alfa = rho_new / np.dot(p_k, q_k)\n",
    "        x += alfa * p_k\n",
    "        r_k -= alfa * q_k\n",
    "        \n",
    "        log.append(np.sqrt(rho_new))\n",
    "        \n",
    "        converge = (rho_new <= eps**2)\n",
    "\n",
    "    return (x, k, log)\n"
   ]
  },
  {
   "cell_type": "code",
   "execution_count": 123,
   "id": "d72c83a3",
   "metadata": {},
   "outputs": [],
   "source": [
    "antdiag = 1 / diag"
   ]
  },
  {
   "cell_type": "code",
   "execution_count": 135,
   "id": "ed740ed7-10eb-4cca-87ef-014fb71028b1",
   "metadata": {
    "tags": []
   },
   "outputs": [
    {
     "name": "stdout",
     "output_type": "stream",
     "text": [
      "1\n",
      "56\n"
     ]
    }
   ],
   "source": [
    "x, k, log= CG((A_data, A_col_ind, A_rowPtr), b, antdiag, 10**(-6), 30000)\n",
    "print(k)"
   ]
  },
  {
   "cell_type": "code",
   "execution_count": 136,
   "id": "b354976b-66d4-4539-a3e2-8a55a966dec7",
   "metadata": {
    "tags": []
   },
   "outputs": [
    {
     "data": {
      "text/plain": [
       "Text(0.5, 1.0, 'График зависимости нормы невязки от числа итераций')"
      ]
     },
     "execution_count": 136,
     "metadata": {},
     "output_type": "execute_result"
    },
    {
     "data": {
      "image/png": "[encoded data removed]",
      "text/plain": [
       "<Figure size 640x480 with 1 Axes>"
      ]
     },
     "metadata": {},
     "output_type": "display_data"
    }
   ],
   "source": [
    "fig, ax = plt.subplots() \n",
    "ax.semilogy(log)\n",
    "ax.set_xlabel('Число итераций')\n",
    "ax.set_ylabel('Норма невязки в логарифмическом масштабе')\n",
    "ax.set_title('График зависимости нормы невязки от числа итераций')"
   ]
  },
  {
   "cell_type": "code",
   "execution_count": 46,
   "id": "17ffa0cf",
   "metadata": {},
   "outputs": [],
   "source": []
  },
  {
   "cell_type": "code",
   "execution_count": null,
   "id": "6a535b9f",
   "metadata": {},
   "outputs": [],
   "source": []
  }
 ],
 "metadata": {
  "kernelspec": {
   "display_name": "Python 3 (ipykernel)",
   "language": "python",
   "name": "python3"
  },
  "language_info": {
   "codemirror_mode": {
    "name": "ipython",
    "version": 3
   },
   "file_extension": ".py",
   "mimetype": "text/x-python",
   "name": "python",
   "nbconvert_exporter": "python",
   "pygments_lexer": "ipython3",
   "version": "3.12.2"
  }
 },
 "nbformat": 4,
 "nbformat_minor": 5
}
